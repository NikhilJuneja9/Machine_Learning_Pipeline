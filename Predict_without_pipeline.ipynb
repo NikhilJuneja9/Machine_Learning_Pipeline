{
 "cells": [
  {
   "cell_type": "code",
   "execution_count": 1,
   "id": "b6897156-4ebd-479c-b19a-9b000b35b07d",
   "metadata": {},
   "outputs": [],
   "source": [
    "import numpy as np\n",
    "import pandas as pd\n",
    "import pickle"
   ]
  },
  {
   "cell_type": "code",
   "execution_count": 2,
   "id": "cf1952c8-6976-4dc5-ad18-02f657eff189",
   "metadata": {},
   "outputs": [],
   "source": [
    "ohe_sex = pickle.load(open(r'E:\\New folder (2)\\pipeline\\pickled_file\\ohe_sex.pkl', 'rb'))\n",
    "ohe_embarked = pickle.load(open(r'E:\\New folder (2)\\pipeline\\pickled_file\\ohe_embarked.pkl', 'rb'))\n",
    "dt = pickle.load(open(r'E:\\New folder (2)\\pipeline\\pickled_file\\dt.pkl', 'rb'))"
   ]
  },
  {
   "cell_type": "code",
   "execution_count": 3,
   "id": "d71ab9c4-5fa2-43a3-b153-ea4bd2cb2081",
   "metadata": {},
   "outputs": [
    {
     "data": {
      "text/plain": [
       "array([[3, 'male', 41, 0, 0, 7.125, 'C']], dtype=object)"
      ]
     },
     "execution_count": 3,
     "metadata": {},
     "output_type": "execute_result"
    }
   ],
   "source": [
    "#assuming user_input\n",
    "\n",
    "test_input = np.array([3, \"male\",\t41,\t0,\t0\t,7.1250\t,\"C\"],dtype=object).reshape(1,7)\n",
    "test_input"
   ]
  },
  {
   "cell_type": "code",
   "execution_count": 4,
   "id": "b9f8144d-edaf-4c4f-af62-a54a00f6c115",
   "metadata": {},
   "outputs": [
    {
     "data": {
      "text/plain": [
       "array([[1., 0., 0.]])"
      ]
     },
     "execution_count": 4,
     "metadata": {},
     "output_type": "execute_result"
    }
   ],
   "source": [
    "test_input_sex = ohe_sex.transform(test_input[:, 1:2])\n",
    "test_input_embarked = ohe_embarked.transform(test_input[:, -1:])\n",
    "test_input_embarked"
   ]
  },
  {
   "cell_type": "code",
   "execution_count": 5,
   "id": "40368d3a-738c-46e1-a232-6d41673c878b",
   "metadata": {},
   "outputs": [],
   "source": [
    "test_input_transformed = np.concatenate((test_input[:,[0,3,4,5]],test_input[:,[2]],test_input_sex,test_input_embarked),axis =1)"
   ]
  },
  {
   "cell_type": "code",
   "execution_count": 6,
   "id": "2fb47f23-4b5f-4295-bae6-19446b2ad6c6",
   "metadata": {},
   "outputs": [
    {
     "data": {
      "text/html": [
       "<div>\n",
       "<style scoped>\n",
       "    .dataframe tbody tr th:only-of-type {\n",
       "        vertical-align: middle;\n",
       "    }\n",
       "\n",
       "    .dataframe tbody tr th {\n",
       "        vertical-align: top;\n",
       "    }\n",
       "\n",
       "    .dataframe thead th {\n",
       "        text-align: right;\n",
       "    }\n",
       "</style>\n",
       "<table border=\"1\" class=\"dataframe\">\n",
       "  <thead>\n",
       "    <tr style=\"text-align: right;\">\n",
       "      <th></th>\n",
       "      <th>Pclass</th>\n",
       "      <th>SibSp</th>\n",
       "      <th>Parch</th>\n",
       "      <th>Fare</th>\n",
       "      <th>Age</th>\n",
       "      <th>Female</th>\n",
       "      <th>Male</th>\n",
       "      <th>C</th>\n",
       "      <th>Q</th>\n",
       "      <th>S</th>\n",
       "    </tr>\n",
       "  </thead>\n",
       "  <tbody>\n",
       "    <tr>\n",
       "      <th>0</th>\n",
       "      <td>3</td>\n",
       "      <td>0</td>\n",
       "      <td>0</td>\n",
       "      <td>7.125</td>\n",
       "      <td>41</td>\n",
       "      <td>0.0</td>\n",
       "      <td>1.0</td>\n",
       "      <td>1.0</td>\n",
       "      <td>0.0</td>\n",
       "      <td>0.0</td>\n",
       "    </tr>\n",
       "  </tbody>\n",
       "</table>\n",
       "</div>"
      ],
      "text/plain": [
       "  Pclass SibSp Parch   Fare Age Female Male    C    Q    S\n",
       "0      3     0     0  7.125  41    0.0  1.0  1.0  0.0  0.0"
      ]
     },
     "execution_count": 6,
     "metadata": {},
     "output_type": "execute_result"
    }
   ],
   "source": [
    "test_input_transformed = pd.DataFrame(test_input_transformed,columns=[\"Pclass\",\"SibSp\",\"Parch\",\"Fare\",\"Age\",\"Female\",\"Male\",\"C\",\"Q\",\"S\"])\n",
    "test_input_transformed"
   ]
  },
  {
   "cell_type": "code",
   "execution_count": 7,
   "id": "7be3aa62-0aa6-4b0d-b525-8035a0537fd2",
   "metadata": {},
   "outputs": [
    {
     "data": {
      "text/plain": [
       "array([0], dtype=int64)"
      ]
     },
     "execution_count": 7,
     "metadata": {},
     "output_type": "execute_result"
    }
   ],
   "source": [
    "dt.predict(test_input_transformed)"
   ]
  },
  {
   "cell_type": "code",
   "execution_count": null,
   "id": "8d1685ec-ff41-4998-95ea-e15912e525cc",
   "metadata": {},
   "outputs": [],
   "source": []
  }
 ],
 "metadata": {
  "kernelspec": {
   "display_name": "Python 3 (ipykernel)",
   "language": "python",
   "name": "python3"
  },
  "language_info": {
   "codemirror_mode": {
    "name": "ipython",
    "version": 3
   },
   "file_extension": ".py",
   "mimetype": "text/x-python",
   "name": "python",
   "nbconvert_exporter": "python",
   "pygments_lexer": "ipython3",
   "version": "3.11.7"
  }
 },
 "nbformat": 4,
 "nbformat_minor": 5
}
